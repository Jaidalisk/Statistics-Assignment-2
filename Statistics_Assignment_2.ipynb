{
  "nbformat": 4,
  "nbformat_minor": 0,
  "metadata": {
    "colab": {
      "provenance": []
    },
    "kernelspec": {
      "name": "python3",
      "display_name": "Python 3"
    },
    "language_info": {
      "name": "python"
    }
  },
  "cells": [
    {
      "cell_type": "markdown",
      "source": [
        "What is hypothesis testing in statistics?\n",
        " - A statistical method to determine if there is enough evidence to reject a null hypothesis in favor of an alternative hypothesis based on sample data.\n",
        "\n"
      ],
      "metadata": {
        "id": "XNAmAGGNax2W"
      }
    },
    {
      "cell_type": "markdown",
      "source": [
        "What is the null hypothesis, and how does it differ from the alternative hypothesis?\n",
        " - The null hypothesis (𝐻0) states no effect or no difference, while the alternative hypothesis (𝐻𝑎) suggests a significant effect or difference."
      ],
      "metadata": {
        "id": "Fqa5fvYKax4o"
      }
    },
    {
      "cell_type": "markdown",
      "source": [
        "What is the significance level in hypothesis testing, and why is it important?\n",
        " - The probability of rejecting 𝐻0 when it is true. Commonly set at 0.05, it controls the Type 1 error rate."
      ],
      "metadata": {
        "id": "qHJh3GSuax7C"
      }
    },
    {
      "cell_type": "markdown",
      "source": [
        "What does a P-value represent in hypothesis testing?\n",
        " - The probability of obtaining results as extreme as the observed ones under 𝐻0. A lower P-value suggests stronger evidence against 𝐻0."
      ],
      "metadata": {
        "id": "s1VEDDqTax-m"
      }
    },
    {
      "cell_type": "markdown",
      "source": [
        "How do you interpret the P-value in hypothesis testing?\n",
        " - If P<α, reject 𝐻0; otherwise, fail to reject 𝐻0."
      ],
      "metadata": {
        "id": "7Q2FQmkbayBb"
      }
    },
    {
      "cell_type": "markdown",
      "source": [
        "What are Type 1 and Type 2 errors in hypothesis testing?\n",
        " - Type 1 error occurs when 𝐻0 is wrongly rejected. Type 2 error occurs when 𝐻0 is not rejected despite being false."
      ],
      "metadata": {
        "id": "SLnLWvYpayDk"
      }
    },
    {
      "cell_type": "markdown",
      "source": [
        "What is the difference between a one-tailed and a two-tailed test in hypothesis testing?\n",
        " - One-tailed tests check for an effect in one direction, while two-tailed tests consider both directions.\n",
        "\n"
      ],
      "metadata": {
        "id": "2jnr2pk3ayF-"
      }
    },
    {
      "cell_type": "markdown",
      "source": [
        "What is the Z-test, and when is it used in hypothesis testing?\n",
        " - Used when population variance is known and sample size is large (n>30) to test population means."
      ],
      "metadata": {
        "id": "qB52H99FayIJ"
      }
    },
    {
      "cell_type": "markdown",
      "source": [
        "How do you calculate the Z-score, and what does it represent in hypothesis testing?\n",
        " - Calculated as Z= (x−μ)/𝜎 , it measures how many standard deviations a value is from the mean."
      ],
      "metadata": {
        "id": "DUzTX5BgayKa"
      }
    },
    {
      "cell_type": "markdown",
      "source": [
        "What is the T-distribution, and when should it be used instead of the normal distribution?\n",
        "Used instead of normal distribution when sample size is small (𝑛<30) and population variance is unknown."
      ],
      "metadata": {
        "id": "u6a9ajZAayOT"
      }
    },
    {
      "cell_type": "markdown",
      "source": [
        "What is the difference between a Z-test and a T-test?\n",
        " - Z-test applies when population variance is known, while T-test is used for unknown variance and small samples."
      ],
      "metadata": {
        "id": "5A6-vNeCayRI"
      }
    },
    {
      "cell_type": "markdown",
      "source": [
        "What is the T-test, and how is it used in hypothesis testing?\n",
        " - Compares means of two groups; used in hypothesis testing when variance is unknown and sample size is small."
      ],
      "metadata": {
        "id": "EKYsAl5OayTi"
      }
    },
    {
      "cell_type": "markdown",
      "source": [
        "What is the relationship between Z-test and T-test in hypothesis testing?\n",
        " - T-test approximates Z-test as sample size increases, converging to normality."
      ],
      "metadata": {
        "id": "EDoUv_jZayW5"
      }
    },
    {
      "cell_type": "markdown",
      "source": [
        "What is a confidence interval, and how is it used to interpret statistical results?\n",
        " -  A range of values that likely contains the population parameter with a given confidence level (e.g., 95%)."
      ],
      "metadata": {
        "id": "Yy8ToMeNeguh"
      }
    },
    {
      "cell_type": "markdown",
      "source": [
        "What is the margin of error, and how does it affect the confidence interval?\n",
        " - The maximum expected difference between sample and population values; affects confidence interval width."
      ],
      "metadata": {
        "id": "jJb96l2Begxl"
      }
    },
    {
      "cell_type": "markdown",
      "source": [
        "How is Bayes' Theorem used in statistics, and what is its significance?\n",
        " - Calculates conditional probability; used in statistics for updating beliefs with new evidence."
      ],
      "metadata": {
        "id": "C_4tMahZeg1c"
      }
    },
    {
      "cell_type": "markdown",
      "source": [
        "What is the Chi-square distribution, and when is it used?\n",
        " -  Used in categorical data analysis, especially for goodness-of-fit and independence tests"
      ],
      "metadata": {
        "id": "6u6n3JsGeg4N"
      }
    },
    {
      "cell_type": "markdown",
      "source": [
        "What is the Chi-square goodness of fit test, and how is it applied?\n",
        " - Assesses whether observed data fits an expected distribution."
      ],
      "metadata": {
        "id": "5OSe6F7keg7g"
      }
    },
    {
      "cell_type": "markdown",
      "source": [
        "What is the F-distribution, and when is it used in hypothesis testing?\n",
        " - Used in ANOVA and F-tests for comparing variances."
      ],
      "metadata": {
        "id": "fb5q3aoZeg-m"
      }
    },
    {
      "cell_type": "markdown",
      "source": [
        "What is an ANOVA test, and what are its assumptions?\n",
        " - Tests differences among group means; assumes normality, independence, and equal variance."
      ],
      "metadata": {
        "id": "9b1UWEU-ehBH"
      }
    },
    {
      "cell_type": "markdown",
      "source": [
        "What are the different types of ANOVA tests?\n",
        " - One-way (one independent variable), two-way (two independent variables), and repeated measures."
      ],
      "metadata": {
        "id": "Usa4LLyqehD8"
      }
    },
    {
      "cell_type": "markdown",
      "source": [
        "What is the F-test, and how does it relate to hypothesis testing?\n",
        " - Compares two variances; used in ANOVA and regression analysis for hypothesis testing."
      ],
      "metadata": {
        "id": "rJzPkKGCehGc"
      }
    },
    {
      "cell_type": "markdown",
      "source": [],
      "metadata": {
        "id": "QtJXi7SLehJn"
      }
    },
    {
      "cell_type": "markdown",
      "source": [],
      "metadata": {
        "id": "WxZEAlRVehN_"
      }
    },
    {
      "cell_type": "markdown",
      "source": [],
      "metadata": {
        "id": "JcLbBdJjehQn"
      }
    },
    {
      "cell_type": "markdown",
      "source": [],
      "metadata": {
        "id": "9gIMnD7jehTK"
      }
    },
    {
      "cell_type": "markdown",
      "source": [],
      "metadata": {
        "id": "n6xthZ8JehV4"
      }
    },
    {
      "cell_type": "markdown",
      "source": [],
      "metadata": {
        "id": "ySBnoT_mehYk"
      }
    },
    {
      "cell_type": "markdown",
      "source": [],
      "metadata": {
        "id": "f1djfS0NehbJ"
      }
    },
    {
      "cell_type": "markdown",
      "source": [],
      "metadata": {
        "id": "vU2PlSi_ehdi"
      }
    },
    {
      "cell_type": "markdown",
      "source": [],
      "metadata": {
        "id": "i76IzJ8Zehgh"
      }
    },
    {
      "cell_type": "markdown",
      "source": [],
      "metadata": {
        "id": "8tylWSZtehjN"
      }
    },
    {
      "cell_type": "markdown",
      "source": [],
      "metadata": {
        "id": "JB5rl0hRehoh"
      }
    },
    {
      "cell_type": "markdown",
      "source": [],
      "metadata": {
        "id": "X6zxaZIqehts"
      }
    },
    {
      "cell_type": "markdown",
      "source": [],
      "metadata": {
        "id": "5TGp4vTnehwY"
      }
    },
    {
      "cell_type": "markdown",
      "source": [],
      "metadata": {
        "id": "jwIdPtPhehzO"
      }
    },
    {
      "cell_type": "markdown",
      "source": [],
      "metadata": {
        "id": "FgjmThYKeh2J"
      }
    },
    {
      "cell_type": "markdown",
      "source": [],
      "metadata": {
        "id": "1CGrhQCneh5A"
      }
    },
    {
      "cell_type": "markdown",
      "source": [],
      "metadata": {
        "id": "8JyfQ8KSeh8M"
      }
    },
    {
      "cell_type": "markdown",
      "source": [],
      "metadata": {
        "id": "pdJ5vkndeh_F"
      }
    },
    {
      "cell_type": "markdown",
      "source": [],
      "metadata": {
        "id": "HXG2K2coeiCH"
      }
    },
    {
      "cell_type": "markdown",
      "source": [],
      "metadata": {
        "id": "_TR0bZDseiFO"
      }
    },
    {
      "cell_type": "markdown",
      "source": [],
      "metadata": {
        "id": "PppNe3U0eiIU"
      }
    },
    {
      "cell_type": "markdown",
      "source": [],
      "metadata": {
        "id": "Kb6VF-NjeiLb"
      }
    },
    {
      "cell_type": "markdown",
      "source": [],
      "metadata": {
        "id": "FpjSymKmeiOa"
      }
    },
    {
      "cell_type": "markdown",
      "source": [],
      "metadata": {
        "id": "ZOcud9CVeiSU"
      }
    },
    {
      "cell_type": "markdown",
      "source": [],
      "metadata": {
        "id": "UfX6A9RSeiXa"
      }
    },
    {
      "cell_type": "markdown",
      "source": [],
      "metadata": {
        "id": "1ZF164E9eia2"
      }
    },
    {
      "cell_type": "markdown",
      "source": [],
      "metadata": {
        "id": "EQ7Bd-7-eiee"
      }
    },
    {
      "cell_type": "markdown",
      "source": [],
      "metadata": {
        "id": "Vtro645ceihe"
      }
    },
    {
      "cell_type": "markdown",
      "source": [],
      "metadata": {
        "id": "rUlt13Leeiku"
      }
    },
    {
      "cell_type": "markdown",
      "source": [],
      "metadata": {
        "id": "XfIxRI1bein9"
      }
    },
    {
      "cell_type": "markdown",
      "source": [],
      "metadata": {
        "id": "y94-u1d-eirk"
      }
    }
  ]
}